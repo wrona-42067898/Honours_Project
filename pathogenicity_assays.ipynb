{
 "cells": [
  {
   "cell_type": "code",
   "execution_count": 1,
   "metadata": {},
   "outputs": [],
   "source": [
    "import pandas as pd\n",
    "import numpy as np\n",
    "import matplotlib.pyplot as plt\n",
    "import seaborn as sns\n",
    "import os\n",
    "\n",
    "%matplotlib inline\n",
    "\n",
    "sns.set_style(\"ticks\")"
   ]
  },
  {
   "cell_type": "code",
   "execution_count": 2,
   "metadata": {},
   "outputs": [
    {
     "name": "stdout",
     "output_type": "stream",
     "text": [
      "C:\\Users\\chris\\OneDrive\\Diaporthe\\csv_files\n"
     ]
    }
   ],
   "source": [
    "cd ~/OneDrive/Diaporthe/csv_files"
   ]
  },
  {
   "cell_type": "code",
   "execution_count": 3,
   "metadata": {},
   "outputs": [],
   "source": [
    "cultivar_data = pd.read_csv(\"cultivar_pathogenicity.csv\")\n",
    "isolate_data = pd.read_csv(\"isolate_pathogenicity.csv\")"
   ]
  },
  {
   "cell_type": "code",
   "execution_count": 4,
   "metadata": {},
   "outputs": [
    {
     "data": {
      "text/html": [
       "<div>\n",
       "<style scoped>\n",
       "    .dataframe tbody tr th:only-of-type {\n",
       "        vertical-align: middle;\n",
       "    }\n",
       "\n",
       "    .dataframe tbody tr th {\n",
       "        vertical-align: top;\n",
       "    }\n",
       "\n",
       "    .dataframe thead th {\n",
       "        text-align: right;\n",
       "    }\n",
       "</style>\n",
       "<table border=\"1\" class=\"dataframe\">\n",
       "  <thead>\n",
       "    <tr style=\"text-align: right;\">\n",
       "      <th></th>\n",
       "      <th>isolate_id</th>\n",
       "      <th>cultivar</th>\n",
       "      <th>replicate</th>\n",
       "      <th>dpo</th>\n",
       "      <th>percent_infected</th>\n",
       "    </tr>\n",
       "  </thead>\n",
       "  <tbody>\n",
       "    <tr>\n",
       "      <th>0</th>\n",
       "      <td>MAC-17-47</td>\n",
       "      <td>HAES-789</td>\n",
       "      <td>1</td>\n",
       "      <td>9</td>\n",
       "      <td>68.90</td>\n",
       "    </tr>\n",
       "    <tr>\n",
       "      <th>1</th>\n",
       "      <td>MAC-17-47</td>\n",
       "      <td>HAES-789</td>\n",
       "      <td>2</td>\n",
       "      <td>9</td>\n",
       "      <td>93.62</td>\n",
       "    </tr>\n",
       "  </tbody>\n",
       "</table>\n",
       "</div>"
      ],
      "text/plain": [
       "  isolate_id  cultivar  replicate  dpo  percent_infected\n",
       "0  MAC-17-47  HAES-789          1    9             68.90\n",
       "1  MAC-17-47  HAES-789          2    9             93.62"
      ]
     },
     "execution_count": 4,
     "metadata": {},
     "output_type": "execute_result"
    }
   ],
   "source": [
    "cultivar_data.head(2)"
   ]
  },
  {
   "cell_type": "code",
   "execution_count": 5,
   "metadata": {},
   "outputs": [],
   "source": [
    "cult_test = pd.pivot_table(cultivar_data, index=['replicate'], columns=['cultivar', 'dpo'], values=['percent_infected'])"
   ]
  },
  {
   "cell_type": "code",
   "execution_count": 6,
   "metadata": {},
   "outputs": [
    {
     "data": {
      "text/html": [
       "<div>\n",
       "<style scoped>\n",
       "    .dataframe tbody tr th:only-of-type {\n",
       "        vertical-align: middle;\n",
       "    }\n",
       "\n",
       "    .dataframe tbody tr th {\n",
       "        vertical-align: top;\n",
       "    }\n",
       "\n",
       "    .dataframe thead tr th {\n",
       "        text-align: left;\n",
       "    }\n",
       "\n",
       "    .dataframe thead tr:last-of-type th {\n",
       "        text-align: right;\n",
       "    }\n",
       "</style>\n",
       "<table border=\"1\" class=\"dataframe\">\n",
       "  <thead>\n",
       "    <tr>\n",
       "      <th></th>\n",
       "      <th colspan=\"12\" halign=\"left\">percent_infected</th>\n",
       "    </tr>\n",
       "    <tr>\n",
       "      <th>cultivar</th>\n",
       "      <th colspan=\"3\" halign=\"left\">HAES-783</th>\n",
       "      <th colspan=\"3\" halign=\"left\">HAES-789</th>\n",
       "      <th colspan=\"3\" halign=\"left\">HAES-794</th>\n",
       "      <th colspan=\"3\" halign=\"left\">HAES-853</th>\n",
       "    </tr>\n",
       "    <tr>\n",
       "      <th>dpo</th>\n",
       "      <th>9</th>\n",
       "      <th>12</th>\n",
       "      <th>14</th>\n",
       "      <th>9</th>\n",
       "      <th>12</th>\n",
       "      <th>14</th>\n",
       "      <th>9</th>\n",
       "      <th>12</th>\n",
       "      <th>14</th>\n",
       "      <th>9</th>\n",
       "      <th>12</th>\n",
       "      <th>14</th>\n",
       "    </tr>\n",
       "    <tr>\n",
       "      <th>replicate</th>\n",
       "      <th></th>\n",
       "      <th></th>\n",
       "      <th></th>\n",
       "      <th></th>\n",
       "      <th></th>\n",
       "      <th></th>\n",
       "      <th></th>\n",
       "      <th></th>\n",
       "      <th></th>\n",
       "      <th></th>\n",
       "      <th></th>\n",
       "      <th></th>\n",
       "    </tr>\n",
       "  </thead>\n",
       "  <tbody>\n",
       "    <tr>\n",
       "      <th>1</th>\n",
       "      <td>0.00</td>\n",
       "      <td>7.96</td>\n",
       "      <td>50.62</td>\n",
       "      <td>68.90</td>\n",
       "      <td>100.0</td>\n",
       "      <td>100.0</td>\n",
       "      <td>0.0</td>\n",
       "      <td>3.84</td>\n",
       "      <td>29.15</td>\n",
       "      <td>2.02</td>\n",
       "      <td>100.00</td>\n",
       "      <td>100.00</td>\n",
       "    </tr>\n",
       "    <tr>\n",
       "      <th>2</th>\n",
       "      <td>0.00</td>\n",
       "      <td>100.00</td>\n",
       "      <td>100.00</td>\n",
       "      <td>93.62</td>\n",
       "      <td>100.0</td>\n",
       "      <td>100.0</td>\n",
       "      <td>0.0</td>\n",
       "      <td>0.00</td>\n",
       "      <td>0.00</td>\n",
       "      <td>0.00</td>\n",
       "      <td>8.35</td>\n",
       "      <td>54.51</td>\n",
       "    </tr>\n",
       "    <tr>\n",
       "      <th>3</th>\n",
       "      <td>12.65</td>\n",
       "      <td>97.41</td>\n",
       "      <td>100.00</td>\n",
       "      <td>85.65</td>\n",
       "      <td>100.0</td>\n",
       "      <td>100.0</td>\n",
       "      <td>0.0</td>\n",
       "      <td>2.31</td>\n",
       "      <td>46.77</td>\n",
       "      <td>0.00</td>\n",
       "      <td>86.04</td>\n",
       "      <td>100.00</td>\n",
       "    </tr>\n",
       "  </tbody>\n",
       "</table>\n",
       "</div>"
      ],
      "text/plain": [
       "          percent_infected                                                  \\\n",
       "cultivar          HAES-783                 HAES-789               HAES-794   \n",
       "dpo                     9       12      14       9      12     14       9    \n",
       "replicate                                                                    \n",
       "1                     0.00    7.96   50.62    68.90  100.0  100.0      0.0   \n",
       "2                     0.00  100.00  100.00    93.62  100.0  100.0      0.0   \n",
       "3                    12.65   97.41  100.00    85.65  100.0  100.0      0.0   \n",
       "\n",
       "                                                 \n",
       "cultivar               HAES-853                  \n",
       "dpo          12     14       9       12      14  \n",
       "replicate                                        \n",
       "1          3.84  29.15     2.02  100.00  100.00  \n",
       "2          0.00   0.00     0.00    8.35   54.51  \n",
       "3          2.31  46.77     0.00   86.04  100.00  "
      ]
     },
     "execution_count": 6,
     "metadata": {},
     "output_type": "execute_result"
    }
   ],
   "source": [
    "cult_test"
   ]
  },
  {
   "cell_type": "code",
   "execution_count": 7,
   "metadata": {},
   "outputs": [
    {
     "data": {
      "text/html": [
       "<div>\n",
       "<style scoped>\n",
       "    .dataframe tbody tr th:only-of-type {\n",
       "        vertical-align: middle;\n",
       "    }\n",
       "\n",
       "    .dataframe tbody tr th {\n",
       "        vertical-align: top;\n",
       "    }\n",
       "\n",
       "    .dataframe thead th {\n",
       "        text-align: right;\n",
       "    }\n",
       "</style>\n",
       "<table border=\"1\" class=\"dataframe\">\n",
       "  <thead>\n",
       "    <tr style=\"text-align: right;\">\n",
       "      <th></th>\n",
       "      <th>isolate_id</th>\n",
       "      <th>cultivar</th>\n",
       "      <th>replicate</th>\n",
       "      <th>dpo</th>\n",
       "      <th>percent_infected</th>\n",
       "    </tr>\n",
       "  </thead>\n",
       "  <tbody>\n",
       "    <tr>\n",
       "      <th>0</th>\n",
       "      <td>MAC-17-47</td>\n",
       "      <td>HAES-789</td>\n",
       "      <td>1</td>\n",
       "      <td>9</td>\n",
       "      <td>68.90</td>\n",
       "    </tr>\n",
       "    <tr>\n",
       "      <th>1</th>\n",
       "      <td>MAC-17-47</td>\n",
       "      <td>HAES-789</td>\n",
       "      <td>2</td>\n",
       "      <td>9</td>\n",
       "      <td>93.62</td>\n",
       "    </tr>\n",
       "  </tbody>\n",
       "</table>\n",
       "</div>"
      ],
      "text/plain": [
       "  isolate_id  cultivar  replicate  dpo  percent_infected\n",
       "0  MAC-17-47  HAES-789          1    9             68.90\n",
       "1  MAC-17-47  HAES-789          2    9             93.62"
      ]
     },
     "execution_count": 7,
     "metadata": {},
     "output_type": "execute_result"
    }
   ],
   "source": [
    "cultivar_data.head(2)"
   ]
  },
  {
   "cell_type": "markdown",
   "metadata": {},
   "source": [
    "# Plotting timecourse\n",
    "\n",
    "Okay, this is quite involved since there are many dimensions to consider (days post inoculation (dpo), the cultivar, and the replicate).\n",
    "   \n",
    "First, we create a **pivot table** from our original dataset *cultivar_data*.\n",
    "1. For this, we select the **index as 'replicate'**. We do this because (I think) we later pass in the aggregate function mean(), and we want the mean for the replicates for each group.\n",
    "2. The two levels are then our columns: 'dpo' and 'cultivar', which you can think of as providing the unique identifier for each replicate. The order matters here for graphing purposes (although it can technically be adjusted manually I think). We want 'days' besides eachother on the graph for comparison, so we put it first here."
   ]
  },
  {
   "cell_type": "code",
   "execution_count": 8,
   "metadata": {},
   "outputs": [],
   "source": [
    "cult_test = pd.pivot_table(cultivar_data, index=['replicate'], columns=['dpo', 'cultivar'],\n",
    "                           aggfunc=np.mean)"
   ]
  },
  {
   "cell_type": "code",
   "execution_count": 22,
   "metadata": {},
   "outputs": [
    {
     "data": {
      "text/html": [
       "<div>\n",
       "<style>\n",
       "    .dataframe thead tr:only-child th {\n",
       "        text-align: right;\n",
       "    }\n",
       "\n",
       "    .dataframe thead th {\n",
       "        text-align: left;\n",
       "    }\n",
       "\n",
       "    .dataframe tbody tr th {\n",
       "        vertical-align: top;\n",
       "    }\n",
       "</style>\n",
       "<table border=\"1\" class=\"dataframe\">\n",
       "  <thead>\n",
       "    <tr>\n",
       "      <th></th>\n",
       "      <th colspan=\"12\" halign=\"left\">percent_infected</th>\n",
       "    </tr>\n",
       "    <tr>\n",
       "      <th>dpo</th>\n",
       "      <th colspan=\"4\" halign=\"left\">9</th>\n",
       "      <th colspan=\"4\" halign=\"left\">12</th>\n",
       "      <th colspan=\"4\" halign=\"left\">14</th>\n",
       "    </tr>\n",
       "    <tr>\n",
       "      <th>cultivar</th>\n",
       "      <th>HAES-783</th>\n",
       "      <th>HAES-789</th>\n",
       "      <th>HAES-794</th>\n",
       "      <th>HAES-853</th>\n",
       "      <th>HAES-783</th>\n",
       "      <th>HAES-789</th>\n",
       "      <th>HAES-794</th>\n",
       "      <th>HAES-853</th>\n",
       "      <th>HAES-783</th>\n",
       "      <th>HAES-789</th>\n",
       "      <th>HAES-794</th>\n",
       "      <th>HAES-853</th>\n",
       "    </tr>\n",
       "    <tr>\n",
       "      <th>replicate</th>\n",
       "      <th></th>\n",
       "      <th></th>\n",
       "      <th></th>\n",
       "      <th></th>\n",
       "      <th></th>\n",
       "      <th></th>\n",
       "      <th></th>\n",
       "      <th></th>\n",
       "      <th></th>\n",
       "      <th></th>\n",
       "      <th></th>\n",
       "      <th></th>\n",
       "    </tr>\n",
       "  </thead>\n",
       "  <tbody>\n",
       "    <tr>\n",
       "      <th>1</th>\n",
       "      <td>0.00</td>\n",
       "      <td>68.90</td>\n",
       "      <td>0.0</td>\n",
       "      <td>2.02</td>\n",
       "      <td>7.96</td>\n",
       "      <td>100.0</td>\n",
       "      <td>3.84</td>\n",
       "      <td>100.00</td>\n",
       "      <td>50.62</td>\n",
       "      <td>100.0</td>\n",
       "      <td>29.15</td>\n",
       "      <td>100.00</td>\n",
       "    </tr>\n",
       "    <tr>\n",
       "      <th>2</th>\n",
       "      <td>0.00</td>\n",
       "      <td>93.62</td>\n",
       "      <td>0.0</td>\n",
       "      <td>0.00</td>\n",
       "      <td>100.00</td>\n",
       "      <td>100.0</td>\n",
       "      <td>0.00</td>\n",
       "      <td>8.35</td>\n",
       "      <td>100.00</td>\n",
       "      <td>100.0</td>\n",
       "      <td>0.00</td>\n",
       "      <td>54.51</td>\n",
       "    </tr>\n",
       "    <tr>\n",
       "      <th>3</th>\n",
       "      <td>12.65</td>\n",
       "      <td>85.65</td>\n",
       "      <td>0.0</td>\n",
       "      <td>0.00</td>\n",
       "      <td>97.41</td>\n",
       "      <td>100.0</td>\n",
       "      <td>2.31</td>\n",
       "      <td>86.04</td>\n",
       "      <td>100.00</td>\n",
       "      <td>100.0</td>\n",
       "      <td>46.77</td>\n",
       "      <td>100.00</td>\n",
       "    </tr>\n",
       "  </tbody>\n",
       "</table>\n",
       "</div>"
      ],
      "text/plain": [
       "          percent_infected                                               \\\n",
       "dpo                     9                                   12            \n",
       "cultivar          HAES-783 HAES-789 HAES-794 HAES-853 HAES-783 HAES-789   \n",
       "replicate                                                                 \n",
       "1                     0.00    68.90      0.0     2.02     7.96    100.0   \n",
       "2                     0.00    93.62      0.0     0.00   100.00    100.0   \n",
       "3                    12.65    85.65      0.0     0.00    97.41    100.0   \n",
       "\n",
       "                                                                 \n",
       "dpo                               14                             \n",
       "cultivar  HAES-794 HAES-853 HAES-783 HAES-789 HAES-794 HAES-853  \n",
       "replicate                                                        \n",
       "1             3.84   100.00    50.62    100.0    29.15   100.00  \n",
       "2             0.00     8.35   100.00    100.0     0.00    54.51  \n",
       "3             2.31    86.04   100.00    100.0    46.77   100.00  "
      ]
     },
     "execution_count": 22,
     "metadata": {},
     "output_type": "execute_result"
    }
   ],
   "source": [
    "cult_test"
   ]
  },
  {
   "cell_type": "code",
   "execution_count": 10,
   "metadata": {},
   "outputs": [
    {
     "data": {
      "image/png": "[encoded data removed]",
      "text/plain": [
       "<Figure size 720x360 with 1 Axes>"
      ]
     },
     "metadata": {},
     "output_type": "display_data"
    }
   ],
   "source": [
    "fig, ax = plt.subplots()\n",
    "fig.set_size_inches(10,5)\n",
    "\n",
    "sns.barplot(data=cult_test['percent_infected'], orient='h', palette='deep', edgecolor='black',\n",
    "           capsize=0.25, errwidth=2)\n",
    "\n",
    "\n",
    "ax.set_yticklabels([\"\", \"\", '9 days', \"\", \n",
    "                   \"\", \"\", '12 days', \"\",\n",
    "                   \"\", \"\", '14 days', \"\",])\n",
    "\n",
    "h_lines = [3.5,7.5]\n",
    "[ax.axhline(x, alpha=1, xmin=-0.08, xmax=1.05, clip_on=False,\n",
    "            linestyle='dashed', color='red') for x in h_lines]\n",
    "\n",
    "\n",
    "sns.despine()\n",
    "\n",
    "\n",
    "plt.title(\"Mean proportion infected over 14 days\")\n",
    "\n",
    "\n",
    "tight = plt.tight_layout(pad=2, w_pad=5, h_pad=5)"
   ]
  },
  {
   "cell_type": "code",
   "execution_count": 12,
   "metadata": {},
   "outputs": [
    {
     "data": {
      "image/png": "[encoded data removed]",
      "text/plain": [
       "<Figure size 720x360 with 1 Axes>"
      ]
     },
     "metadata": {},
     "output_type": "display_data"
    }
   ],
   "source": [
    "fig, ax = plt.subplots()\n",
    "fig.set_size_inches(10,5)\n",
    "\n",
    "\n",
    "sns.stripplot(data=cult_test['percent_infected'], orient='h', size=8, jitter=0.2, palette='deep')\n",
    "ax.set_yticklabels([\"\", \"\", '9 days', \"\", \n",
    "                   \"\", \"\", '12 days', \"\",\n",
    "                   \"\", \"\", '14 days', \"\",])\n",
    "\n",
    "h_lines = [3.5,7.5]\n",
    "[ax.axhline(x, alpha=1, xmin=-0.05, xmax=1.05, clip_on=False,\n",
    "            linestyle='dashed', color='red') for x in h_lines]\n",
    "\n",
    "ax.grid(axis='y', color='gray', alpha=0.5)\n",
    "\n",
    "plt.title(\"Proportion infected for each replicate over 14 days\")\n",
    "\n",
    "tight = plt.tight_layout(pad=1, w_pad=1, h_pad=1)"
   ]
  }
 ],
 "metadata": {
  "kernelspec": {
   "display_name": "Python 3",
   "language": "python",
   "name": "python3"
  },
  "language_info": {
   "codemirror_mode": {
    "name": "ipython",
    "version": 3
   },
   "file_extension": ".py",
   "mimetype": "text/x-python",
   "name": "python",
   "nbconvert_exporter": "python",
   "pygments_lexer": "ipython3",
   "version": "3.6.5"
  }
 },
 "nbformat": 4,
 "nbformat_minor": 2
}
